{
 "cells": [
  {
   "cell_type": "code",
   "execution_count": 15,
   "id": "1300aa3f-65de-4a96-80aa-3504d1fe496c",
   "metadata": {},
   "outputs": [
    {
     "name": "stdin",
     "output_type": "stream",
     "text": [
      "value = 10\n"
     ]
    },
    {
     "name": "stdout",
     "output_type": "stream",
     "text": [
      "Correct\n"
     ]
    }
   ],
   "source": [
    "value = int(input(\"value =\"))\n",
    "if value == 10:\n",
    "    print(\"Correct\")\n"
   ]
  },
  {
   "cell_type": "code",
   "execution_count": 29,
   "id": "fec359f0-4851-4695-8d75-8a2b86845e9c",
   "metadata": {},
   "outputs": [
    {
     "name": "stdin",
     "output_type": "stream",
     "text": [
      "Enter the passsword: Hope@123\n"
     ]
    },
    {
     "name": "stdout",
     "output_type": "stream",
     "text": [
      "Your password is correct\n"
     ]
    }
   ],
   "source": [
    "#password check\n",
    "Password = input(\"Enter the passsword:\")\n",
    "if Password == \"Hope@123\":\n",
    "    print(\"Your password is correct\")\n",
    "else:\n",
    "    print(\"Your Password is Incorrect\")"
   ]
  },
  {
   "cell_type": "code",
   "execution_count": 31,
   "id": "25b87c92-887d-455d-8a89-c2d55b0e1af9",
   "metadata": {},
   "outputs": [
    {
     "name": "stdin",
     "output_type": "stream",
     "text": [
      "Age: 20\n"
     ]
    },
    {
     "name": "stdout",
     "output_type": "stream",
     "text": [
      "Adult\n"
     ]
    }
   ],
   "source": [
    "# Category\n",
    "Age = int(input(\"Age:\"))\n",
    "if Age < 18:\n",
    "    print(\"Children\")\n",
    "elif Age < 40 :\n",
    "      print(\"Adult\")  \n",
    "elif Age < 60 :\n",
    "      print(\"Citizen\")  \n",
    "else:\n",
    "    print(\"Senior Citizen\")\n"
   ]
  },
  {
   "cell_type": "code",
   "execution_count": 37,
   "id": "b067b9f6-e40a-46ae-ad6c-c0e6365d5fae",
   "metadata": {},
   "outputs": [
    {
     "name": "stdin",
     "output_type": "stream",
     "text": [
      "ENter any No: 1\n"
     ]
    },
    {
     "name": "stdout",
     "output_type": "stream",
     "text": [
      "No is Positive\n"
     ]
    }
   ],
   "source": [
    "# No positive or Negative\n",
    "No = int(input(\"ENter any No:\"))\n",
    "if No < 0 :\n",
    "         print(\"No is Negative\")\n",
    "else:\n",
    "         print(\"No is Positive\")\n"
   ]
  },
  {
   "cell_type": "code",
   "execution_count": 9,
   "id": "a5343299-ba9e-4aeb-973f-e15bbc66e969",
   "metadata": {},
   "outputs": [
    {
     "name": "stdin",
     "output_type": "stream",
     "text": [
      "Enter the No to check: 25\n"
     ]
    },
    {
     "name": "stdout",
     "output_type": "stream",
     "text": [
      "The No is divisible by 5 \n"
     ]
    }
   ],
   "source": [
    "#Divisibility by 5:\n",
    "No = int(input(\"Enter the No to check:\"))\n",
    "if No % 5 == 0:\n",
    "    print (\"The No is divisible by 5 \")\n",
    "else:\n",
    "    print (\"The No is not divisible by 5 \")\n",
    "         \n",
    "         \n"
   ]
  },
  {
   "cell_type": "code",
   "execution_count": null,
   "id": "ecbb4691-47e7-44bb-bd50-f9169e559f2f",
   "metadata": {},
   "outputs": [],
   "source": []
  }
 ],
 "metadata": {
  "kernelspec": {
   "display_name": "Python 3 (ipykernel)",
   "language": "python",
   "name": "python3"
  },
  "language_info": {
   "codemirror_mode": {
    "name": "ipython",
    "version": 3
   },
   "file_extension": ".py",
   "mimetype": "text/x-python",
   "name": "python",
   "nbconvert_exporter": "python",
   "pygments_lexer": "ipython3",
   "version": "3.12.4"
  }
 },
 "nbformat": 4,
 "nbformat_minor": 5
}
