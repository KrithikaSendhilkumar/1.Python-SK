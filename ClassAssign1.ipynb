{
 "cells": [
  {
   "cell_type": "code",
   "execution_count": 17,
   "id": "b29d0322-bf16-41fc-9e1a-69d882eb06da",
   "metadata": {},
   "outputs": [
    {
     "name": "stdout",
     "output_type": "stream",
     "text": [
      "Subfields in AI are: \n",
      " Machine Learning \n",
      " Neural Networks \n",
      " Vision \n",
      " Robotics \n",
      " Speech Processing \n",
      " Natural Language Processing\n"
     ]
    }
   ],
   "source": [
    "class SubfieldsInAI:\n",
    "    def subfields():\n",
    "     print(\"Subfields in AI are: \\n Machine Learning \\n Neural Networks \\n Vision \\n Robotics \\n Speech Processing \\n Natural Language Processing\")\n",
    "\n",
    "SubfieldsInAI.subfields()   "
   ]
  },
  {
   "cell_type": "code",
   "execution_count": 28,
   "id": "ffd41592-876b-4a35-a051-48bbac5e83da",
   "metadata": {},
   "outputs": [
    {
     "name": "stdin",
     "output_type": "stream",
     "text": [
      "Enter a Number: 52452\n"
     ]
    },
    {
     "name": "stdout",
     "output_type": "stream",
     "text": [
      "52452  is Even number\n"
     ]
    }
   ],
   "source": [
    "class OddEven:\n",
    "    def OddEven():\n",
    "        num = int(input(\"Enter a Number:\"))\n",
    "        if num % 2 == 0:\n",
    "            print(num,\" is Even number\")\n",
    "        elif num % 2 == 1:\n",
    "            print(num ,\"is Odd Number\")\n",
    "\n",
    "OddEven.OddEven()"
   ]
  },
  {
   "cell_type": "code",
   "execution_count": 30,
   "id": "3b594315-46d1-4f2e-8f5c-103008c3bdd2",
   "metadata": {},
   "outputs": [
    {
     "name": "stdin",
     "output_type": "stream",
     "text": [
      "your Gender: Male\n",
      "your age: 18\n"
     ]
    },
    {
     "name": "stdout",
     "output_type": "stream",
     "text": [
      "Not Eligible\n"
     ]
    }
   ],
   "source": [
    "class EligibilityForMarriage:\n",
    "    def Eligible() :\n",
    "        gender = input(\"your Gender:\")\n",
    "        age = int(input (\"your age:\"))\n",
    "        if gender == \"Male\" and age > 21 :\n",
    "            print(\"Eligible\")\n",
    "        elif gender == \"Female\" and age > 18 :\n",
    "            print(\"Eligible\")\n",
    "        else:\n",
    "            print(\"Not Eligible\")\n",
    "\n",
    "EligibilityForMarriage.Eligible()"
   ]
  },
  {
   "cell_type": "code",
   "execution_count": 32,
   "id": "21285a1a-fe7f-4f86-8c83-df30d77fe2cf",
   "metadata": {},
   "outputs": [
    {
     "name": "stdin",
     "output_type": "stream",
     "text": [
      "Enter the marks of subject1: 98\n",
      "Enter the marks of subject2: 87\n",
      "Enter the marks of subject3: 95\n",
      "Enter the marks of subject4: 95\n",
      "Enter the marks of subject5: 93\n"
     ]
    },
    {
     "name": "stdout",
     "output_type": "stream",
     "text": [
      "Subject1: 98\n",
      "Subject2: 87\n",
      "Subject3: 95\n",
      "Subject4: 95\n",
      "Subject5: 93\n",
      "Total: 468\n",
      "percentge: 93.6\n"
     ]
    }
   ],
   "source": [
    "class FindPercent:\n",
    "    def percentage():\n",
    "        s1= int(input(\"Enter the marks of subject1:\"))\n",
    "        s2= int(input(\"Enter the marks of subject2:\"))\n",
    "        s3= int(input(\"Enter the marks of subject3:\"))\n",
    "        s4= int(input(\"Enter the marks of subject4:\"))\n",
    "        s5= int(input(\"Enter the marks of subject5:\"))\n",
    "        Total = s1+s2+s3+s4+s5\n",
    "        percentage = (Total/5)\n",
    "        print (\"Subject1:\",s1)\n",
    "        print (\"Subject2:\",s2)\n",
    "        print (\"Subject3:\",s3)\n",
    "        print (\"Subject4:\",s4)\n",
    "        print (\"Subject5:\",s5)\n",
    "        print (\"Total:\",Total)\n",
    "        print (\"percentge:\",percentage)\n",
    "        \n",
    "FindPercent.percentage()"
   ]
  },
  {
   "cell_type": "code",
   "execution_count": 40,
   "id": "3a4e4832-140f-4919-95d4-f9cb0dcaa131",
   "metadata": {},
   "outputs": [
    {
     "name": "stdout",
     "output_type": "stream",
     "text": [
      "Area of a Triangle:\n",
      "Height :  32\n",
      "Breadth :  34\n",
      "Area :  544.0\n",
      "Perimeter of a Triangle:\n",
      "Height1 :  2\n",
      "Height2 :  4\n",
      "Breadth :  4\n",
      "Perimeter :  10\n"
     ]
    }
   ],
   "source": [
    "class Triangle:\n",
    "    def triangle(h1,h2,h3,b1,b2):\n",
    "        area = (h1*b1) /2\n",
    "        perimeter = h2+h3+b2\n",
    "        print(\"Area of a Triangle:\")\n",
    "        print(\"Height : \",h1)\n",
    "        print(\"Breadth : \",b1)\n",
    "        print(\"Area : \",area)\n",
    "        print(\"Perimeter of a Triangle:\")\n",
    "        print(\"Height1 : \",h2)\n",
    "        print(\"Height2 : \",h3)\n",
    "        print(\"Breadth : \",b2)\n",
    "        print(\"Perimeter : \",perimeter)\n",
    "\n",
    "Triangle.triangle(32,2,4,34,4)"
   ]
  },
  {
   "cell_type": "code",
   "execution_count": null,
   "id": "99bc7737-d8a7-455c-9d41-f5a9cab475d6",
   "metadata": {},
   "outputs": [],
   "source": []
  }
 ],
 "metadata": {
  "kernelspec": {
   "display_name": "Python 3 (ipykernel)",
   "language": "python",
   "name": "python3"
  },
  "language_info": {
   "codemirror_mode": {
    "name": "ipython",
    "version": 3
   },
   "file_extension": ".py",
   "mimetype": "text/x-python",
   "name": "python",
   "nbconvert_exporter": "python",
   "pygments_lexer": "ipython3",
   "version": "3.12.4"
  }
 },
 "nbformat": 4,
 "nbformat_minor": 5
}
