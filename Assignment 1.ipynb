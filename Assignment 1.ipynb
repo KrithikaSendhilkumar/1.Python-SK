{
 "cells": [
  {
   "cell_type": "code",
   "execution_count": 1,
   "id": "ddb7099e-f7f0-4a2b-803d-c3f7bb1c2346",
   "metadata": {},
   "outputs": [
    {
     "name": "stdout",
     "output_type": "stream",
     "text": [
      "Welcome to Assignment-1\n"
     ]
    }
   ],
   "source": [
    "print(\"Welcome to Assignment-1\")"
   ]
  },
  {
   "cell_type": "code",
   "execution_count": 5,
   "id": "bce74a5b-dab2-497c-a56e-fb28248047c9",
   "metadata": {},
   "outputs": [
    {
     "name": "stdout",
     "output_type": "stream",
     "text": [
      "Num1 = 10\n",
      "Num2 = 30\n",
      "Add = 40\n"
     ]
    }
   ],
   "source": [
    "Num1 = 10\n",
    "Num2 = 30\n",
    "Add = Num1+Num2\n",
    "print(\"Num1 =\",Num1)\n",
    "print(\"Num2 =\",Num2)\n",
    "print(\"Add =\",Add)"
   ]
  },
  {
   "cell_type": "code",
   "execution_count": 13,
   "id": "f8d4184b-8b3c-49bc-a051-6e8eb542f025",
   "metadata": {},
   "outputs": [
    {
     "name": "stdin",
     "output_type": "stream",
     "text": [
      "Enter the value of BMI: 28\n"
     ]
    },
    {
     "name": "stdout",
     "output_type": "stream",
     "text": [
      "Over Weight\n"
     ]
    }
   ],
   "source": [
    "# Calculation of Body Mass Inex (BMI)\n",
    "Bmi = int(input(\"Enter the value of BMI:\"))\n",
    "if(Bmi < 16):\n",
    "    print(\"Severe Thinness\")\n",
    "elif (Bmi>=16 and Bmi<17):\n",
    "    print(\"Moderate Thinness\")\n",
    "elif (Bmi>=17 and Bmi<18.5):\n",
    "    print(\"Mild Thinness\")\n",
    "elif (Bmi>=18.5 and Bmi<25):\n",
    "    print(\"Normal\")\n",
    "elif (Bmi>=25 and Bmi<30):\n",
    "    print(\"Over Weight\")\n",
    "elif (Bmi>=30 and Bmi<35):\n",
    "    print(\"Obese Class 1\")\n",
    "elif (Bmi>=35 and Bmi<40):\n",
    "    print(\"Obese Class 2\")\n",
    "elif (Bmi>=40 ):\n",
    "    print(\"Obese Class 3\")         \n",
    "\n"
   ]
  }
 ],
 "metadata": {
  "kernelspec": {
   "display_name": "Python 3 (ipykernel)",
   "language": "python",
   "name": "python3"
  },
  "language_info": {
   "codemirror_mode": {
    "name": "ipython",
    "version": 3
   },
   "file_extension": ".py",
   "mimetype": "text/x-python",
   "name": "python",
   "nbconvert_exporter": "python",
   "pygments_lexer": "ipython3",
   "version": "3.12.4"
  }
 },
 "nbformat": 4,
 "nbformat_minor": 5
}
