{
 "cells": [
  {
   "cell_type": "code",
   "execution_count": 11,
   "id": "34fccb9f-e11e-4bac-88be-38ca3601d1cd",
   "metadata": {},
   "outputs": [],
   "source": [
    "def subfields():\n",
    "     print(\"Subfields in AI are: \\n\", \"Machine Learning \\n\" ,\"Neural Networks \\n\" ,\"Vision \\n\" , \"Robotics \\n\", \"Speech Processing\\n\" , \"Natural Language Processing\\n\")\n",
    "    "
   ]
  },
  {
   "cell_type": "code",
   "execution_count": 13,
   "id": "370461f4-a7de-4542-a26d-dfe8589e949f",
   "metadata": {},
   "outputs": [
    {
     "name": "stdout",
     "output_type": "stream",
     "text": [
      "Subfields in AI are: \n",
      " Machine Learning \n",
      " Neural Networks \n",
      " Vision \n",
      " Robotics \n",
      " Speech Processing\n",
      " Natural Language Processing\n",
      "\n"
     ]
    }
   ],
   "source": [
    "subfields()"
   ]
  },
  {
   "cell_type": "code",
   "execution_count": 23,
   "id": "589eee97-788a-4df7-bd01-e465fd3b43b1",
   "metadata": {},
   "outputs": [
    {
     "name": "stdin",
     "output_type": "stream",
     "text": [
      "Enter a Number: 4\n"
     ]
    },
    {
     "name": "stdout",
     "output_type": "stream",
     "text": [
      "4  is Even number\n"
     ]
    }
   ],
   "source": [
    "num = int(input(\"Enter a Number:\"))\n",
    "def oddEven(num) :\n",
    "    if num % 2 == 0:\n",
    "        print(num,\" is Even number\")\n",
    "    elif num % 2 == 1:\n",
    "        print(num ,\"is Odd Number\")\n",
    "oddEven(num)\n",
    "\n",
    "   \n",
    "    "
   ]
  },
  {
   "cell_type": "code",
   "execution_count": 55,
   "id": "59819f8c-8a98-4fc9-a9f9-705b19b3b889",
   "metadata": {},
   "outputs": [
    {
     "name": "stdin",
     "output_type": "stream",
     "text": [
      "your Gender: Male\n",
      "your age: 18\n"
     ]
    },
    {
     "name": "stdout",
     "output_type": "stream",
     "text": [
      "Not Eligible\n"
     ]
    }
   ],
   "source": [
    "def Eligible() :\n",
    "    gender = input(\"your Gender:\")\n",
    "    age = int(input (\"your age:\"))\n",
    "    if gender == \"Male\" and age > 21 :\n",
    "        print(\"Eligible\")\n",
    "    elif gender == \"Female\" and age > 18 :\n",
    "        print(\"Eligible\")\n",
    "    else:\n",
    "        print(\"Not Eligible\")\n",
    "Eligible()"
   ]
  },
  {
   "cell_type": "code",
   "execution_count": 43,
   "id": "7b36c448-ef22-4965-9071-f43ef10899c4",
   "metadata": {},
   "outputs": [
    {
     "name": "stdin",
     "output_type": "stream",
     "text": [
      "Enter the marks of subject1: 23\n",
      "Enter the marks of subject2: 45\n",
      "Enter the marks of subject3: 33\n",
      "Enter the marks of subject4: 23\n",
      "Enter the marks of subject5: 24\n"
     ]
    },
    {
     "name": "stdout",
     "output_type": "stream",
     "text": [
      "Subject1: 23\n",
      "Subject2: 45\n",
      "Subject3: 33\n",
      "Subject4: 23\n",
      "Subject5: 24\n",
      "Total: 148\n",
      "percentge: 29.6\n"
     ]
    }
   ],
   "source": [
    "def percentage():\n",
    "    s1= int(input(\"Enter the marks of subject1:\"))\n",
    "    s2= int(input(\"Enter the marks of subject2:\"))\n",
    "    s3= int(input(\"Enter the marks of subject3:\"))\n",
    "    s4= int(input(\"Enter the marks of subject4:\"))\n",
    "    s5= int(input(\"Enter the marks of subject5:\"))\n",
    "    Total = s1+s2+s3+s4+s5\n",
    "    percentage = (Total/5)\n",
    "    print (\"Subject1:\",s1)\n",
    "    print (\"Subject2:\",s2)\n",
    "    print (\"Subject3:\",s3)\n",
    "    print (\"Subject4:\",s4)\n",
    "    print (\"Subject5:\",s5)\n",
    "    print (\"Total:\",Total)\n",
    "    print (\"percentge:\",percentage)\n",
    "\n",
    "percentage()\n",
    "    "
   ]
  },
  {
   "cell_type": "code",
   "execution_count": 49,
   "id": "29f0d857-02f8-49f7-8154-f8b13905b35b",
   "metadata": {},
   "outputs": [
    {
     "name": "stdout",
     "output_type": "stream",
     "text": [
      "Area of a Triangle:\n",
      "Height :  3\n",
      "Breadth :  4\n",
      "Area :  6.0\n",
      "Perimeter of a Triangle:\n",
      "Height1 :  3\n",
      "Height2 :  4\n",
      "Breadth :  45\n",
      "Perimeter :  52\n"
     ]
    }
   ],
   "source": [
    "def triangle(h1,h2,h3,b1,b2):\n",
    "    area = (h1*b1) /2\n",
    "    perimeter = h2+h3+b2\n",
    "    print(\"Area of a Triangle:\")\n",
    "    print(\"Height : \",h1)\n",
    "    print(\"Breadth : \",b1)\n",
    "    print(\"Area : \",area)\n",
    "    print(\"Perimeter of a Triangle:\")\n",
    "    print(\"Height1 : \",h2)\n",
    "    print(\"Height2 : \",h3)\n",
    "    print(\"Breadth : \",b2)\n",
    "    print(\"Perimeter : \",perimeter)\n",
    "\n",
    "triangle(3,3,4,4,45)"
   ]
  },
  {
   "cell_type": "code",
   "execution_count": null,
   "id": "e6f2f538-a631-4df1-908e-ec4a07da900d",
   "metadata": {},
   "outputs": [],
   "source": []
  }
 ],
 "metadata": {
  "kernelspec": {
   "display_name": "Python 3 (ipykernel)",
   "language": "python",
   "name": "python3"
  },
  "language_info": {
   "codemirror_mode": {
    "name": "ipython",
    "version": 3
   },
   "file_extension": ".py",
   "mimetype": "text/x-python",
   "name": "python",
   "nbconvert_exporter": "python",
   "pygments_lexer": "ipython3",
   "version": "3.12.4"
  }
 },
 "nbformat": 4,
 "nbformat_minor": 5
}
