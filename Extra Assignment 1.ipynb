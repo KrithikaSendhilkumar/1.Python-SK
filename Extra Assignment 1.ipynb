{
 "cells": [
  {
   "cell_type": "code",
   "execution_count": 1,
   "id": "9829eaa4-edc1-4425-a7f0-018f3607e4f0",
   "metadata": {},
   "outputs": [
    {
     "name": "stdout",
     "output_type": "stream",
     "text": [
      "Hope AI\n"
     ]
    }
   ],
   "source": [
    "print(\"Hope AI\")"
   ]
  },
  {
   "cell_type": "code",
   "execution_count": 3,
   "id": "cc01f3f3-4b5b-4584-904f-7dd9e442fdb4",
   "metadata": {},
   "outputs": [
    {
     "name": "stdin",
     "output_type": "stream",
     "text": [
      "Enter your institute name: HOPE AI\n"
     ]
    }
   ],
   "source": [
    "Institute = input(\"Enter your institute name:\")\n"
   ]
  },
  {
   "cell_type": "code",
   "execution_count": 1,
   "id": "a033afae-04c1-4d47-b3d6-30a1444c7ab3",
   "metadata": {},
   "outputs": [
    {
     "name": "stdin",
     "output_type": "stream",
     "text": [
      "Enter your name: R.Sundar\n",
      "Enter your age: 28\n",
      "Enter your school name: Mahatma CBSE\n",
      "Enter your Degree: B.A\n"
     ]
    }
   ],
   "source": [
    "Name = input(\"Enter your name:\") \n",
    "age = input(\"Enter your age:\")\n",
    "School = input(\"Enter your school name:\")\n",
    "degree = input(\"Enter your Degree:\")"
   ]
  },
  {
   "cell_type": "code",
   "execution_count": 3,
   "id": "155613e8-87e4-4ef1-b193-ff328f02e46b",
   "metadata": {},
   "outputs": [
    {
     "name": "stdout",
     "output_type": "stream",
     "text": [
      "a =  43\n",
      "b =  34\n",
      "add =  77\n"
     ]
    }
   ],
   "source": [
    "a = 43\n",
    "b = 34\n",
    "add = a+b\n",
    "print (\"a = \",a)\n",
    "print (\"b = \",b)\n",
    "print (\"add = \",add)"
   ]
  },
  {
   "cell_type": "code",
   "execution_count": 5,
   "id": "8f7a472a-fe55-4de0-ad77-c745b5d145b9",
   "metadata": {},
   "outputs": [
    {
     "name": "stdout",
     "output_type": "stream",
     "text": [
      "a =  43\n",
      "b =  34\n",
      "sub =  9\n"
     ]
    }
   ],
   "source": [
    "a = 43\n",
    "b = 34\n",
    "sub = a-b\n",
    "print (\"a = \",a)\n",
    "print (\"b = \",b)\n",
    "print (\"sub = \",sub)"
   ]
  },
  {
   "cell_type": "code",
   "execution_count": 7,
   "id": "1b3ba5f0-4b0f-4d3d-8da8-a7abc3ff5ec8",
   "metadata": {},
   "outputs": [
    {
     "name": "stdout",
     "output_type": "stream",
     "text": [
      "a =  63\n",
      "b =  97\n",
      "mul =  6111\n"
     ]
    }
   ],
   "source": [
    "a = 63\n",
    "b = 97\n",
    "mul = a*b\n",
    "print (\"a = \",a)\n",
    "print (\"b = \",b)\n",
    "print (\"mul = \",mul)"
   ]
  },
  {
   "cell_type": "code",
   "execution_count": 5,
   "id": "9e4e29e8-f06e-4b83-952a-3ae1f15ebd17",
   "metadata": {},
   "outputs": [
    {
     "name": "stdout",
     "output_type": "stream",
     "text": [
      "a =  76\n",
      "b =  31\n",
      "Float Div =  2.4516129032258065\n"
     ]
    }
   ],
   "source": [
    "a = 76\n",
    "b = 31\n",
    "div = a/b\n",
    "print (\"a = \",a)\n",
    "print (\"b = \",b)\n",
    "print (\"Float Div = \",div)"
   ]
  },
  {
   "cell_type": "code",
   "execution_count": null,
   "id": "44c79a1e-2509-4068-a91a-067010d8deed",
   "metadata": {},
   "outputs": [],
   "source": []
  }
 ],
 "metadata": {
  "kernelspec": {
   "display_name": "Python 3 (ipykernel)",
   "language": "python",
   "name": "python3"
  },
  "language_info": {
   "codemirror_mode": {
    "name": "ipython",
    "version": 3
   },
   "file_extension": ".py",
   "mimetype": "text/x-python",
   "name": "python",
   "nbconvert_exporter": "python",
   "pygments_lexer": "ipython3",
   "version": "3.12.4"
  }
 },
 "nbformat": 4,
 "nbformat_minor": 5
}
