{
 "cells": [
  {
   "cell_type": "code",
   "execution_count": 9,
   "id": "ddb3a2d5-34f0-45df-a177-5882def0f42c",
   "metadata": {},
   "outputs": [
    {
     "name": "stdin",
     "output_type": "stream",
     "text": [
      "Enter a Number: 34\n"
     ]
    },
    {
     "name": "stdout",
     "output_type": "stream",
     "text": [
      "34  is Even number\n"
     ]
    }
   ],
   "source": [
    "from MultipleFunctions import MF\n",
    "\n",
    "MF.OddEven()\n"
   ]
  },
  {
   "cell_type": "code",
   "execution_count": 11,
   "id": "640157e2-8801-4f4a-a3b3-0577c4212701",
   "metadata": {},
   "outputs": [
    {
     "name": "stdin",
     "output_type": "stream",
     "text": [
      "your Gender: Male\n",
      "your age: 18\n"
     ]
    },
    {
     "name": "stdout",
     "output_type": "stream",
     "text": [
      "Not Eligible\n"
     ]
    }
   ],
   "source": [
    "MF.Eligible()\n"
   ]
  },
  {
   "cell_type": "code",
   "execution_count": null,
   "id": "23fe9d41-c4d0-488c-a20b-6e43d641793b",
   "metadata": {},
   "outputs": [
    {
     "name": "stdin",
     "output_type": "stream",
     "text": [
      "Enter the marks of subject1: 95\n",
      "Enter the marks of subject2: 98\n",
      "Enter the marks of subject3: 87\n"
     ]
    }
   ],
   "source": [
    "MF.percentage()"
   ]
  },
  {
   "cell_type": "code",
   "execution_count": null,
   "id": "59fb3b88-5f55-49ca-896a-d315c349ef54",
   "metadata": {},
   "outputs": [],
   "source": []
  }
 ],
 "metadata": {
  "kernelspec": {
   "display_name": "Python 3 (ipykernel)",
   "language": "python",
   "name": "python3"
  },
  "language_info": {
   "codemirror_mode": {
    "name": "ipython",
    "version": 3
   },
   "file_extension": ".py",
   "mimetype": "text/x-python",
   "name": "python",
   "nbconvert_exporter": "python",
   "pygments_lexer": "ipython3",
   "version": "3.12.4"
  }
 },
 "nbformat": 4,
 "nbformat_minor": 5
}
