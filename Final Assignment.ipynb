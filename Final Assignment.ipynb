{
 "cells": [
  {
   "cell_type": "code",
   "execution_count": 9,
   "id": "ddb3a2d5-34f0-45df-a177-5882def0f42c",
   "metadata": {},
   "outputs": [
    {
     "name": "stdin",
     "output_type": "stream",
     "text": [
      "Enter a Number: 34\n"
     ]
    },
    {
     "name": "stdout",
     "output_type": "stream",
     "text": [
      "34  is Even number\n"
     ]
    }
   ],
   "source": [
    "from MultipleFunctions import MF\n",
    "\n",
    "MF.OddEven()\n"
   ]
  },
  {
   "cell_type": "code",
   "execution_count": 11,
   "id": "640157e2-8801-4f4a-a3b3-0577c4212701",
   "metadata": {},
   "outputs": [
    {
     "name": "stdin",
     "output_type": "stream",
     "text": [
      "your Gender: Male\n",
      "your age: 18\n"
     ]
    },
    {
     "name": "stdout",
     "output_type": "stream",
     "text": [
      "Not Eligible\n"
     ]
    }
   ],
   "source": [
    "MF.Eligible()\n"
   ]
  },
  {
   "cell_type": "code",
   "execution_count": 13,
   "id": "23fe9d41-c4d0-488c-a20b-6e43d641793b",
   "metadata": {},
   "outputs": [
    {
     "name": "stdin",
     "output_type": "stream",
     "text": [
      "Enter the marks of subject1: 95\n",
      "Enter the marks of subject2: 98\n",
      "Enter the marks of subject3: 87\n",
      "Enter the marks of subject4: 98\n",
      "Enter the marks of subject5: 93\n"
     ]
    },
    {
     "name": "stdout",
     "output_type": "stream",
     "text": [
      "Subject1: 95\n",
      "Subject2: 98\n",
      "Subject3: 87\n",
      "Subject4: 98\n",
      "Subject5: 93\n",
      "Total: 471\n",
      "percentge: 94.2\n"
     ]
    }
   ],
   "source": [
    "MF.percentage()"
   ]
  },
  {
   "cell_type": "code",
   "execution_count": 17,
   "id": "59fb3b88-5f55-49ca-896a-d315c349ef54",
   "metadata": {},
   "outputs": [
    {
     "name": "stdout",
     "output_type": "stream",
     "text": [
      "Area of a Triangle:\n",
      "Height :  34\n",
      "Breadth :  4\n",
      "Area :  68.0\n",
      "Perimeter of a Triangle:\n",
      "Height1 :  4\n",
      "Height2 :  2\n",
      "Breadth :  34\n",
      "Perimeter :  40\n"
     ]
    }
   ],
   "source": [
    "MF.triangle(34,4,2,4,34)\n",
    "            "
   ]
  },
  {
   "cell_type": "code",
   "execution_count": 19,
   "id": "ac4f8a1b-ca70-4447-9357-119985440c28",
   "metadata": {},
   "outputs": [
    {
     "name": "stdin",
     "output_type": "stream",
     "text": [
      "Enter the value of BMI: 16\n"
     ]
    },
    {
     "name": "stdout",
     "output_type": "stream",
     "text": [
      "Moderate Thinness\n"
     ]
    }
   ],
   "source": [
    "MF.BMI()"
   ]
  }
 ],
 "metadata": {
  "kernelspec": {
   "display_name": "Python 3 (ipykernel)",
   "language": "python",
   "name": "python3"
  },
  "language_info": {
   "codemirror_mode": {
    "name": "ipython",
    "version": 3
   },
   "file_extension": ".py",
   "mimetype": "text/x-python",
   "name": "python",
   "nbconvert_exporter": "python",
   "pygments_lexer": "ipython3",
   "version": "3.12.4"
  }
 },
 "nbformat": 4,
 "nbformat_minor": 5
}
